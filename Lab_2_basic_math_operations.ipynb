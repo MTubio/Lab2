{
  "nbformat": 4,
  "nbformat_minor": 0,
  "metadata": {
    "colab": {
      "name": "Lab#2_basic math operations.ipynb",
      "provenance": []
    },
    "kernelspec": {
      "name": "python3",
      "display_name": "Python 3"
    }
  },
  "cells": [
    {
      "cell_type": "code",
      "metadata": {
        "colab": {
          "base_uri": "https://localhost:8080/"
        },
        "id": "bMp5BwZH4pLW",
        "outputId": "ee45356a-b8f4-457a-924f-5cca81768243"
      },
      "source": [
        "#For the basic math operation, I included an input value to allow\r\n",
        "#user to input salary and hours worked for the week, while the code computes for us\r\n",
        "salary = int(input(\"How much do you make per hour? \"))\r\n",
        "hours_worked = int(input(\"How many hours did you work this week? \"))\r\n",
        "print(\"Your salary is\", salary * hours_worked)"
      ],
      "execution_count": null,
      "outputs": [
        {
          "output_type": "stream",
          "text": [
            "How much do you make per hour? 15\n",
            "How many hours did you work this week? 40\n",
            "Your salary is 600\n"
          ],
          "name": "stdout"
        }
      ]
    },
    {
      "cell_type": "code",
      "metadata": {
        "colab": {
          "base_uri": "https://localhost:8080/"
        },
        "id": "gSEj2S6_6vzF",
        "outputId": "caa03839-d245-42ec-f0b1-ac7da2f9cb08"
      },
      "source": [
        "#Other simple operations are\r\n",
        "Annual_salary = salary*hours_worked*4*12\r\n",
        "print(\"At this rate, you are estimated to earn an annual salary of \",Annual_salary)"
      ],
      "execution_count": null,
      "outputs": [
        {
          "output_type": "stream",
          "text": [
            "At this rate, you are estimated to earn an annual salary of  28800\n"
          ],
          "name": "stdout"
        }
      ]
    },
    {
      "cell_type": "code",
      "metadata": {
        "colab": {
          "base_uri": "https://localhost:8080/"
        },
        "id": "SuZEJgRU62AY",
        "outputId": "d575aa99-0e63-4f15-f1a7-b0d41cdab78b"
      },
      "source": [
        "#Assuming the cost to buy a house is at around 300,000 Canadian dollars\r\n",
        "print(\"You can buy your first house in\", round(300000/Annual_salary,2), \"years.\")"
      ],
      "execution_count": null,
      "outputs": [
        {
          "output_type": "stream",
          "text": [
            "You can buy your first house in 10.42 years.\n"
          ],
          "name": "stdout"
        }
      ]
    }
  ]
}